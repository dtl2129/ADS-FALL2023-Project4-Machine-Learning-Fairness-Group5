{
  "nbformat": 4,
  "nbformat_minor": 0,
  "metadata": {
    "colab": {
      "provenance": []
    },
    "kernelspec": {
      "name": "python3",
      "display_name": "Python 3"
    },
    "language_info": {
      "name": "python"
    }
  },
  "cells": [
    {
      "cell_type": "code",
      "source": [
        "# import relevant libraries\n",
        "import numpy as np\n",
        "import matplotlib as plt\n",
        "import scipy\n",
        "import pandas as pd\n",
        "from sklearn.model_selection import train_test_split\n",
        "from sklearn.linear_model import LogisticRegression\n",
        "from sklearn.metrics import accuracy_score\n",
        "import torch as t\n",
        "import torch.nn as nn\n",
        "import warnings\n",
        "import math\n",
        "import itertools\n",
        "import copy\n",
        "from datetime import datetime, timedelta\n",
        "from sklearn.metrics import mutual_info_score\n",
        "warnings.filterwarnings(\"ignore\")"
      ],
      "metadata": {
        "id": "uJK7CBt7k4SK"
      },
      "execution_count": 15,
      "outputs": []
    },
    {
      "cell_type": "code",
      "source": [
        "# import data\n",
        "compas_url = \"https://raw.githubusercontent.com/propublica/compas-analysis/master/compas-scores-two-years.csv\"\n",
        "\n",
        "data = pd.read_csv(compas_url)"
      ],
      "metadata": {
        "id": "2BUxp1qnx6Ww"
      },
      "execution_count": 16,
      "outputs": []
    },
    {
      "cell_type": "markdown",
      "source": [
        "# Project 4 Goals:\n",
        "\n",
        "\n",
        "*   Task A3: Maximizing fairness under accuracy constraints (gamma and Fine-gamma).\n",
        "*   Task A7: Information Theoretic Measures for Fairness-aware Feature selection (FFS).\n",
        "*   Compare gamma, Fine-gamma and FFS.\n",
        "\n"
      ],
      "metadata": {
        "id": "QfPvsB-VhTsA"
      }
    },
    {
      "cell_type": "markdown",
      "source": [
        "# Task A3: Maximizing fairness under accuracy constraints (gamma and Fine-gamma)"
      ],
      "metadata": {
        "id": "HNz9sqR2jmTy"
      }
    },
    {
      "cell_type": "markdown",
      "source": [
        "refer to this github, section 1.4: https://github.com/mbilalzafar/fair-classification/tree/master/disparate_impact"
      ],
      "metadata": {
        "id": "MCd-4k2VnRSW"
      }
    },
    {
      "cell_type": "markdown",
      "source": [
        "### Training an unconstrained classifier on the biased data\n",
        "\n",
        "*   We will train a logistic regression classifier on the data to see the correlations between the classifier decisions and sensitive feature value: **race.**"
      ],
      "metadata": {
        "id": "RyJRzSiUjcGa"
      }
    },
    {
      "cell_type": "code",
      "source": [
        "# Selecting features for the model\n",
        "\n",
        "unprocessed_features = ['age', 'c_charge_degree', 'age_cat', 'sex',\n",
        "                        'priors_count', 'is_recid', 'c_jail_in', 'c_jail_out']\n",
        "\n",
        "target = 'two_year_recid'\n",
        "\n",
        "sensitive_attr = 'race'\n",
        "\n",
        "data_full = data[unprocessed_features + [target, sensitive_attr]]\n",
        "\n",
        "# 2. Feature Encoding\n",
        "\n",
        "def encode_features(df):\n",
        "    race_mapping = {'African-American': 0, 'Caucasian': 1}\n",
        "    sex_mapping = {'Male': 1, 'Female': 0}\n",
        "    age_cat_mapping = {'Less than 25': 0, '25 - 45': 1, 'Greater than 45': 2}\n",
        "    c_charge_degree_mapping = {'F': 0, 'M': 1}\n",
        "\n",
        "    # Keep records for African-American and Caucasian\n",
        "    df_filtered = df[df['race'].isin(race_mapping.keys())]\n",
        "    print(\"Shape after filtering for race:\", df_filtered.shape)\n",
        "\n",
        "    df_filtered['race'] = df_filtered['race'].map(race_mapping)\n",
        "    df_filtered['sex'] = df_filtered['sex'].map(sex_mapping)\n",
        "    df_filtered['age_cat'] = df_filtered['age_cat'].map(age_cat_mapping)\n",
        "    df_filtered['c_charge_degree'] = df_filtered['c_charge_degree'].map(c_charge_degree_mapping)\n",
        "\n",
        "    return df_filtered\n",
        "\n",
        "processed_data = encode_features(data_full)\n",
        "\n",
        "# 3. Calculating Length of Stay\n",
        "processed_data['c_jail_in'] = pd.to_datetime(processed_data['c_jail_in'])\n",
        "processed_data['c_jail_out'] = pd.to_datetime(processed_data['c_jail_out'])\n",
        "processed_data['length_of_stay'] = (processed_data['c_jail_out'] - processed_data['c_jail_in']).dt.days\n",
        "\n",
        "# Apply the specified bins to the length of stay\n",
        "processed_data['length_of_stay'] = processed_data['length_of_stay'].apply(\n",
        "    lambda days: 0 if days <= 7 else (2 if days > 90 else 1)\n",
        ")\n",
        "\n",
        "# 5. Processing Prior Crime Counts\n",
        "processed_data['priors_count'] = processed_data['priors_count'].apply(\n",
        "    lambda count: 0 if count == 0 else (2 if count > 3 else 1)\n",
        ")\n",
        "\n",
        "processed_features = ['age_cat', 'c_charge_degree', 'sex', 'priors_count',\n",
        "                      'length_of_stay']\n",
        "\n",
        "x = processed_data[processed_features]\n",
        "\n",
        "y = processed_data[target]\n",
        "\n",
        "a = processed_data[sensitive_attr]\n",
        "\n",
        "# Splitting the data into training and testing sets\n",
        "x_train, x_test, y_train, y_test = train_test_split(x, y, test_size=0.3, random_state=42)\n",
        "\n",
        "# Retraining the unconstrained logistic regression classifier\n",
        "clf_unconstrained = LogisticRegression(solver='liblinear')\n",
        "clf_unconstrained.fit(x_train, y_train)\n",
        "\n",
        "# Predicting on the test set\n",
        "y_pred_unconstrained = clf_unconstrained.predict(x_test)\n",
        "\n",
        "# Calculating accuracy\n",
        "accuracy_unconstrained = accuracy_score(y_test, y_pred_unconstrained)\n",
        "\n",
        "# Including the 'race' column in the test data for analysis\n",
        "data_test = pd.concat([x_test, a.loc[x_test.index], y_test], axis=1)\n",
        "\n",
        "# Calculating p-rule and covariance\n",
        "protected_group = data_test[sensitive_attr] == 0\n",
        "non_protected_group = data_test[sensitive_attr] == 1\n",
        "\n",
        "protected_positive_rate = np.mean(y_pred_unconstrained[protected_group])\n",
        "non_protected_positive_rate = np.mean(y_pred_unconstrained[non_protected_group])\n",
        "\n",
        "p_rule = min(protected_positive_rate / non_protected_positive_rate,\n",
        "             non_protected_positive_rate / protected_positive_rate) * 100\n",
        "\n",
        "race_binary = (data_test[sensitive_attr] == 0)\n",
        "\n",
        "covariance = np.cov(race_binary, y_pred_unconstrained)[0, 1]\n",
        "\n",
        "# Output results\n",
        "accuracy_unconstrained, p_rule, covariance"
      ],
      "metadata": {
        "colab": {
          "base_uri": "https://localhost:8080/"
        },
        "id": "m-7j1gDsyLqz",
        "outputId": "1477f865-6273-4e70-e20c-b20c37b2df35"
      },
      "execution_count": 17,
      "outputs": [
        {
          "output_type": "stream",
          "name": "stdout",
          "text": [
            "Shape after filtering for race: (6150, 10)\n"
          ]
        },
        {
          "output_type": "execute_result",
          "data": {
            "text/plain": [
              "(0.6601626016260163, 48.83463665840168, 0.05913708269403738)"
            ]
          },
          "metadata": {},
          "execution_count": 17
        }
      ]
    },
    {
      "cell_type": "markdown",
      "source": [
        "Following output is generated by the program:"
      ],
      "metadata": {
        "id": "6L6Bxz2rkPdn"
      }
    },
    {
      "cell_type": "markdown",
      "source": [
        "**Accuracy:** The accuracy of the classifier on the test set is approximately **68.64%**.\n",
        "\n",
        "**P-Rule:** The p-rule for different race categories achieved is about **52.60%**. The p-rule is a measure of fairness, specifically a comparison of positive outcomes between the protected group (in this case, African-Americans) and the non-protected group. A p-rule of approximately 52.60% suggests that the classifier's decisions are somewhat biased *against* the protected group.\n",
        "\n",
        "These results imply that the classifier, when trained without fairness constraints, reflects the biases present in the data. This analysis sets the stage for training classifiers with fairness constraints to see if the fairness can be improved while maintaining acceptable accuracy."
      ],
      "metadata": {
        "id": "5Rfa473lj4NS"
      }
    },
    {
      "cell_type": "markdown",
      "source": [
        "### Optimizing fairness subject to accuracy constraints (gamma and Fine-gamma)\n",
        "\n",
        "*   Let's try to optimize fairness (that does not necessarily correspond to a 100% p-rule) subject to a deterministic loss in accuracy."
      ],
      "metadata": {
        "id": "yq-gZTogiHrQ"
      }
    },
    {
      "cell_type": "code",
      "source": [
        "def optimize_fairness_with_accuracy_constraints(model, x_test, y_test, sensitive_attr_binary, gamma=0):\n",
        "    \"\"\"\n",
        "    Optimize fairness subject to accuracy constraints.\n",
        "    Adjusts the decision threshold of the logistic regression model to balance fairness and accuracy.\n",
        "    \"\"\"\n",
        "    initial_accuracy = accuracy_score(y_test, model.predict(x_test))\n",
        "    target_accuracy = initial_accuracy * (1 - gamma)\n",
        "    thresholds = np.linspace(0, 1, 1001)\n",
        "\n",
        "    best_threshold = 0.5  # Initial decision threshold\n",
        "    best_p_rule = 0\n",
        "    best_covariance = float('inf')\n",
        "    best_accuracy = initial_accuracy\n",
        "\n",
        "    for threshold in thresholds:\n",
        "        # Apply the threshold\n",
        "        y_pred_adjusted = (model.predict_proba(x_test)[:, 1] >= threshold).astype(int)\n",
        "\n",
        "        # Calculate accuracy\n",
        "        current_accuracy = accuracy_score(y_test, y_pred_adjusted)\n",
        "        if current_accuracy < target_accuracy:\n",
        "            continue  # Skip if accuracy constraint is not met\n",
        "\n",
        "        # Calculate p-rule\n",
        "        protected_positive_rate = np.mean(y_pred_adjusted[sensitive_attr_binary == 1])\n",
        "        non_protected_positive_rate = np.mean(y_pred_adjusted[sensitive_attr_binary == 0])\n",
        "        if non_protected_positive_rate == 0:  # Avoid division by zero\n",
        "            continue\n",
        "\n",
        "        current_p_rule = min(protected_positive_rate / non_protected_positive_rate,\n",
        "                             non_protected_positive_rate / protected_positive_rate) * 100\n",
        "\n",
        "        # Calculate covariance\n",
        "        current_covariance = np.cov(sensitive_attr_binary, y_pred_adjusted)[0, 1]\n",
        "\n",
        "        # Update the best threshold if it has higher p-rule or lower covariance\n",
        "        if current_p_rule > best_p_rule or (current_p_rule == best_p_rule and abs(current_covariance) < abs(best_covariance)):\n",
        "            best_threshold = threshold\n",
        "            best_p_rule = current_p_rule\n",
        "            best_accuracy = current_accuracy\n",
        "            best_covariance = current_covariance\n",
        "\n",
        "    return best_threshold, best_accuracy, best_p_rule, best_covariance\n",
        "\n",
        "# Extracting the binary sensitive attribute (0 for African-American, 1 for white)\n",
        "sensitive_attr_binary = (data_test[sensitive_attr] == 0)\n",
        "\n",
        "# Optimizing fairness with strict accuracy constraint\n",
        "gamma_value = 0\n",
        "best_threshold, acc_fairness_optimized, p_rule_fairness_optimized, covariance_fairness_optimized = optimize_fairness_with_accuracy_constraints(\n",
        "    clf_unconstrained, x_test, y_test, sensitive_attr_binary, gamma=gamma_value\n",
        ")\n",
        "\n",
        "best_threshold, acc_fairness_optimized, p_rule_fairness_optimized, covariance_fairness_optimized"
      ],
      "metadata": {
        "colab": {
          "base_uri": "https://localhost:8080/"
        },
        "id": "XgwCcMfNynlC",
        "outputId": "00cf4df3-e850-4600-e515-6615f1156dfd"
      },
      "execution_count": 18,
      "outputs": [
        {
          "output_type": "execute_result",
          "data": {
            "text/plain": [
              "(0.464, 0.6644986449864498, 54.87236695321215, 0.060640530483396106)"
            ]
          },
          "metadata": {},
          "execution_count": 18
        }
      ]
    },
    {
      "cell_type": "markdown",
      "source": [
        "Accuracy: The accuracy with this threshold is about **66.45%**, which is actually slightly than the unconstrained model. This change in accuracy is within the bounds of the 0% loss we are willing to accept (as dictated by gamma = 0).\n",
        "\n",
        "P-Rule: The p-rule achieved is **54.87%**, indicating a slightly improved level of fairness according to this metric."
      ],
      "metadata": {
        "id": "TqitnZKCyw5W"
      }
    },
    {
      "cell_type": "markdown",
      "source": [
        "The \"gamma\" variable controls how much loss in accuracy we are willing to take while optimizing for fairness. A larger value of gamma will result in more fair system, but we will be getting a more loss in accuracy."
      ],
      "metadata": {
        "id": "ubOVxLWji2Gb"
      }
    },
    {
      "cell_type": "code",
      "source": [
        "# PLOT THE RESULTS\n",
        "\n",
        "results = []\n",
        "\n",
        "for gamma_value in np.arange(0, 0.26, 0.01):\n",
        "    best_threshold, acc_fairness_optimized, p_rule_fairness_optimized, covariance_fairness_optimized = optimize_fairness_with_accuracy_constraints(\n",
        "        clf_unconstrained, x_test, y_test, sensitive_attr_binary, gamma=gamma_value\n",
        "    )\n",
        "\n",
        "    result_dict = {\n",
        "        'gamma': gamma_value,\n",
        "        'best_threshold': best_threshold,\n",
        "        'acc_fairness_optimized': acc_fairness_optimized,\n",
        "        'p_rule_fairness_optimized': p_rule_fairness_optimized,\n",
        "        'covariance_fairness_optimized': covariance_fairness_optimized\n",
        "    }\n",
        "\n",
        "    results.append(result_dict)"
      ],
      "metadata": {
        "id": "IwrpBW-UzdvJ"
      },
      "execution_count": 19,
      "outputs": []
    },
    {
      "cell_type": "code",
      "source": [
        "# Extract values for plotting\n",
        "gammas = [result['gamma'] for result in results]\n",
        "acc_fairness_optimized_values = [result['acc_fairness_optimized'] for result in results]\n",
        "p_rule_fairness_optimized_values = [result['p_rule_fairness_optimized'] for result in results]\n",
        "\n",
        "# Plotting\n",
        "fig, ax1 = plt.subplots()\n",
        "\n",
        "ax1.set_xlabel('Gamma')\n",
        "ax1.set_ylabel('Accuracy (Fairness Optimized)', color='tab:blue')\n",
        "ax1.plot(gammas, acc_fairness_optimized_values, color='tab:blue')\n",
        "ax1.tick_params(axis='y', labelcolor='tab:blue')\n",
        "\n",
        "ax2 = ax1.twinx()\n",
        "ax2.set_ylabel('P-rule (Fairness Optimized)', color='tab:red')\n",
        "ax2.plot(gammas, p_rule_fairness_optimized_values, color='tab:red')\n",
        "ax2.tick_params(axis='y', labelcolor='tab:red')\n",
        "\n",
        "fig.tight_layout()\n",
        "plt.title('Accuracy and P-rule vs. Gamma')\n",
        "plt.savefig('Accuracy_PRule_vs_Gamma.png')\n",
        "plt.show()"
      ],
      "metadata": {
        "colab": {
          "base_uri": "https://localhost:8080/",
          "height": 509
        },
        "id": "FPG2ZRfazkPj",
        "outputId": "3e4df5eb-6312-4da2-e004-0a948b864bc7"
      },
      "execution_count": 41,
      "outputs": [
        {
          "output_type": "display_data",
          "data": {
            "text/plain": [
              "<Figure size 640x480 with 2 Axes>"
            ],
            "image/png": "[encoded data removed]"
          },
          "metadata": {}
        }
      ]
    },
    {
      "cell_type": "markdown",
      "source": [
        "Here we can clearly see that *as gamma increases, the accuracy of our classifier decreases* while the p-rule that it satisfies increases. If we wanted our p-rule of fairness to equal 80%, say, we would have to contend with a reduction in the model accuracy rate, which would move from ~66% to ~55%."
      ],
      "metadata": {
        "id": "TKBr5bbhzvTU"
      }
    },
    {
      "cell_type": "markdown",
      "source": [
        "Here we choose \"sex\" as the sensitive attribute."
      ],
      "metadata": {
        "id": "dVz1_54Z33JE"
      }
    },
    {
      "cell_type": "code",
      "source": [
        "sensitive_attr_sex = 'sex'\n",
        "features = ['age', 'priors_count']\n",
        "\n",
        "# Preprocessing with 'sex' as the sensitive attribute\n",
        "data_preprocessed_sex = pd.get_dummies(data[features + [sensitive_attr_sex]])\n",
        "x_sex = data_preprocessed_sex.drop(columns=[sensitive_attr_sex + '_Female', sensitive_attr_sex + '_Male'])\n",
        "y_sex = data[target]\n",
        "\n",
        "# Splitting the data into training and testing sets for 'sex'\n",
        "x_train_sex, x_test_sex, y_train_sex, y_test_sex = train_test_split(x_sex, y_sex, test_size=0.3, random_state=42)\n",
        "\n",
        "# Training the unconstrained logistic regression classifier with 'sex' as sensitive attribute\n",
        "clf_unconstrained_sex = LogisticRegression(solver='liblinear')\n",
        "clf_unconstrained_sex.fit(x_train_sex, y_train_sex)\n",
        "\n",
        "# Predicting on the test set\n",
        "y_pred_unconstrained_sex = clf_unconstrained_sex.predict(x_test_sex)\n",
        "\n",
        "# Calculating accuracy\n",
        "accuracy_unconstrained_sex = accuracy_score(y_test_sex, y_pred_unconstrained_sex)\n",
        "\n",
        "# Including the 'sex' column in the test data for analysis\n",
        "data_test_sex = pd.concat([x_test_sex, data.loc[x_test_sex.index, sensitive_attr_sex], y_test_sex], axis=1)\n",
        "\n",
        "# Calculating p-rule and covariance for 'sex'\n",
        "protected_group_sex = data_test_sex[sensitive_attr_sex] == 'Female'\n",
        "non_protected_group_sex = data_test_sex[sensitive_attr_sex] != 'Female'\n",
        "\n",
        "protected_positive_rate_sex = np.mean(y_pred_unconstrained_sex[protected_group_sex])\n",
        "non_protected_positive_rate_sex = np.mean(y_pred_unconstrained_sex[non_protected_group_sex])\n",
        "\n",
        "p_rule_sex = min(protected_positive_rate_sex / non_protected_positive_rate_sex,\n",
        "                 non_protected_positive_rate_sex / protected_positive_rate_sex) * 100\n",
        "\n",
        "sex_binary = (data_test_sex[sensitive_attr_sex] == 'Female').astype(int)\n",
        "covariance_sex = np.cov(sex_binary, y_pred_unconstrained_sex)[0, 1]\n",
        "\n",
        "accuracy_unconstrained_sex, p_rule_sex, covariance_sex"
      ],
      "metadata": {
        "colab": {
          "base_uri": "https://localhost:8080/"
        },
        "id": "kpd2XBnR34Ha",
        "outputId": "18075a52-d695-4b13-dcad-041f71e98153"
      },
      "execution_count": 29,
      "outputs": [
        {
          "output_type": "execute_result",
          "data": {
            "text/plain": [
              "(0.6849884526558891, 61.09848252134914, -0.021624482930848257)"
            ]
          },
          "metadata": {},
          "execution_count": 29
        }
      ]
    },
    {
      "cell_type": "markdown",
      "source": [
        "Accuracy: The accuracy of the classifier on the test set is approximately **68.50%.**\n",
        "\n",
        "P-Rule: The p-rule achieved for difference in sex is about **61.10%**. This metric measures fairness in terms of the ratio of positive outcomes between the protected group (in this case, females) and the non-protected group (males). A p-rule of approximately 61.10% suggests that there is some bias in the classifier's decisions, though it is less pronounced than with the race attribute."
      ],
      "metadata": {
        "id": "siGB1Zal37gg"
      }
    },
    {
      "cell_type": "code",
      "source": [
        "# Selecting features for the model - for simplicity, we use a few features\n",
        "target = 'two_year_recid'\n",
        "sensitive_attr_sex = 'sex'\n",
        "\n",
        "# Preprocessing with 'sex' as the sensitive attribute\n",
        "data_preprocessed_sex = pd.get_dummies(data[features + [sensitive_attr_sex]])\n",
        "x_sex = data_preprocessed_sex.drop(columns=[sensitive_attr_sex + '_Female', sensitive_attr_sex + '_Male'])\n",
        "y_sex = data[target]\n",
        "\n",
        "# Splitting the data into training and testing sets for 'sex'\n",
        "x_train_sex, x_test_sex, y_train_sex, y_test_sex = train_test_split(x_sex, y_sex, test_size=0.3, random_state=42)\n",
        "\n",
        "# Training the unconstrained logistic regression classifier with 'sex' as sensitive attribute\n",
        "clf_unconstrained_sex = LogisticRegression(solver='liblinear')\n",
        "clf_unconstrained_sex.fit(x_train_sex, y_train_sex)\n",
        "\n",
        "# Including the 'sex' column in the test data for analysis\n",
        "data_test_sex = pd.concat([x_test_sex, data.loc[x_test_sex.index, sensitive_attr_sex], y_test_sex], axis=1)\n",
        "\n",
        "# Extracting the binary sensitive attribute for 'sex' (1 for Female, 0 for Male)\n",
        "sensitive_attr_binary_sex = (data_test_sex[sensitive_attr_sex] == 'Female').astype(int)\n",
        "\n",
        "# Function to optimize fairness with accuracy constraints for 'sex'\n",
        "def optimize_fairness_sex_with_accuracy_constraints(model, x_test, y_test, sensitive_attr_binary, gamma=0.5):\n",
        "    initial_accuracy = accuracy_score(y_test, model.predict(x_test))\n",
        "    target_accuracy = initial_accuracy * (1 - gamma)\n",
        "    thresholds = np.linspace(0, 1, 100)\n",
        "\n",
        "    best_threshold = 0.5  # Initial decision threshold\n",
        "    best_p_rule = 0\n",
        "    best_covariance = float('inf')\n",
        "    best_accuracy = initial_accuracy\n",
        "\n",
        "    for threshold in thresholds:\n",
        "        y_pred_adjusted = (model.predict_proba(x_test)[:, 1] >= threshold).astype(int)\n",
        "        current_accuracy = accuracy_score(y_test, y_pred_adjusted)\n",
        "        if current_accuracy < target_accuracy:\n",
        "            continue\n",
        "\n",
        "        protected_positive_rate = np.mean(y_pred_adjusted[sensitive_attr_binary == 1])\n",
        "        non_protected_positive_rate = np.mean(y_pred_adjusted[sensitive_attr_binary == 0])\n",
        "        if non_protected_positive_rate == 0:\n",
        "            continue\n",
        "\n",
        "        current_p_rule = min(protected_positive_rate / non_protected_positive_rate,\n",
        "                             non_protected_positive_rate / protected_positive_rate) * 100\n",
        "\n",
        "        current_covariance = np.cov(sensitive_attr_binary, y_pred_adjusted)[0, 1]\n",
        "\n",
        "        if current_p_rule > best_p_rule or (current_p_rule == best_p_rule and abs(current_covariance) < abs(best_covariance)):\n",
        "            best_threshold = threshold\n",
        "            best_p_rule = current_p_rule\n",
        "            best_accuracy = current_accuracy\n",
        "            best_covariance = current_covariance\n",
        "\n",
        "    return best_threshold, best_accuracy, best_p_rule, best_covariance\n",
        "\n",
        "# Optimizing fairness with accuracy constraint for 'sex'\n",
        "gamma_value_sex = 0.2\n",
        "best_threshold_sex, acc_fairness_optimized_sex, p_rule_fairness_optimized_sex, covariance_fairness_optimized_sex = optimize_fairness_sex_with_accuracy_constraints(\n",
        "    clf_unconstrained_sex, x_test_sex, y_test_sex, sensitive_attr_binary_sex, gamma=gamma_value_sex\n",
        ")\n",
        "\n",
        "best_threshold_sex, acc_fairness_optimized_sex, p_rule_fairness_optimized_sex, covariance_fairness_optimized_sex"
      ],
      "metadata": {
        "colab": {
          "base_uri": "https://localhost:8080/"
        },
        "id": "6-ZXUT354FYy",
        "outputId": "42170835-de42-4b77-c83b-fbd72c473dcf"
      },
      "execution_count": 30,
      "outputs": [
        {
          "output_type": "execute_result",
          "data": {
            "text/plain": [
              "(0.30303030303030304,\n",
              " 0.5547344110854503,\n",
              " 94.85804669182075,\n",
              " -0.006300452929098003)"
            ]
          },
          "metadata": {},
          "execution_count": 30
        }
      ]
    },
    {
      "cell_type": "markdown",
      "source": [
        "Accuracy: The accuracy of the classifier with this threshold is about **55.47%.** This is higher than the accuracy we observed with gamma set to 0.3, reflecting the less stringent loss in accuracy we are willing to accept with gamma at 0.2.\n",
        "\n",
        "P-Rule: The p-rule achieved is approximately **94.86%**, indicating a high level of fairness."
      ],
      "metadata": {
        "id": "NOHk8IbB4HHg"
      }
    },
    {
      "cell_type": "code",
      "source": [
        "# Mapping age categories\n",
        "age_cat_mapping = {'Less than 25': 0, '25 - 45': 1, 'Greater than 45': 2}\n",
        "data['age_cat_mapped'] = data['age_cat'].map(age_cat_mapping)\n",
        "\n",
        "# Selecting features for the model, excluding 'age' as it is represented by 'age_cat_mapped'\n",
        "features_age_sensitive = ['sex', 'priors_count', 'age_cat_mapped']\n",
        "sensitive_attr_age = 'age_cat_mapped'\n",
        "\n",
        "# Preprocessing with 'age_cat_mapped' as the sensitive attribute\n",
        "data_preprocessed_age = pd.get_dummies(data[features_age_sensitive])\n",
        "x_age = data_preprocessed_age.drop(columns=['age_cat_mapped'])\n",
        "y_age = data[target]\n",
        "\n",
        "# Splitting the data into training and testing sets for 'age_cat_mapped'\n",
        "x_train_age, x_test_age, y_train_age, y_test_age = train_test_split(x_age, y_age, test_size=0.3, random_state=42)\n",
        "\n",
        "# Training the unconstrained logistic regression classifier with 'age_cat_mapped' as sensitive attribute\n",
        "clf_unconstrained_age = LogisticRegression(solver='liblinear')\n",
        "clf_unconstrained_age.fit(x_train_age, y_train_age)\n",
        "\n",
        "# Predicting on the test set\n",
        "y_pred_unconstrained_age = clf_unconstrained_age.predict(x_test_age)\n",
        "\n",
        "# Calculating accuracy\n",
        "accuracy_unconstrained_age = accuracy_score(y_test_age, y_pred_unconstrained_age)\n",
        "\n",
        "# Including the 'age_cat_mapped' column in the test data for analysis\n",
        "data_test_age = pd.concat([x_test_age, data.loc[x_test_age.index, sensitive_attr_age], y_test_age], axis=1)\n",
        "\n",
        "# Calculating p-rule and covariance for 'age_cat_mapped'\n",
        "# Here, we consider each age category as a protected group one at a time\n",
        "p_rules_age = {}\n",
        "covariances_age = {}\n",
        "for age_group in age_cat_mapping.values():\n",
        "    protected_group_age = data_test_age[sensitive_attr_age] == age_group\n",
        "    non_protected_group_age = data_test_age[sensitive_attr_age] != age_group\n",
        "\n",
        "    protected_positive_rate_age = np.mean(y_pred_unconstrained_age[protected_group_age])\n",
        "    non_protected_positive_rate_age = np.mean(y_pred_unconstrained_age[non_protected_group_age])\n",
        "\n",
        "    p_rules_age[age_group] = min(protected_positive_rate_age / non_protected_positive_rate_age,\n",
        "                                 non_protected_positive_rate_age / protected_positive_rate_age) * 100\n",
        "\n",
        "    age_binary = (data_test_age[sensitive_attr_age] == age_group).astype(int)\n",
        "    covariances_age[age_group] = np.cov(age_binary, y_pred_unconstrained_age)[0, 1]\n",
        "\n",
        "accuracy_unconstrained_age, p_rules_age, covariances_age"
      ],
      "metadata": {
        "colab": {
          "base_uri": "https://localhost:8080/"
        },
        "id": "YkovDBBq4L0B",
        "outputId": "8e9a29f5-f353-4fd8-8c46-266362df4276"
      },
      "execution_count": 31,
      "outputs": [
        {
          "output_type": "execute_result",
          "data": {
            "text/plain": [
              "(0.6475750577367205,\n",
              " {0: 32.850691864274125, 1: 65.0253908496099, 2: 83.14940057425123},\n",
              " {0: -0.03259659428054287, 1: 0.024667346842943305, 2: 0.00792924743759951})"
            ]
          },
          "metadata": {},
          "execution_count": 31
        }
      ]
    },
    {
      "cell_type": "markdown",
      "source": [
        "Accuracy: The accuracy of the classifier on the test set is approximately **64.76%.**\n",
        "\n",
        "P-Rule for Different Age Categories: For the group 'Less than 25': The p-rule is about **32.85%**, indicating a significant bias against this age group.\n",
        "For the group '25 - 45': The p-rule is about 65.03%, suggesting some bias but less severe than the youngest group.\n",
        "For the group 'Greater than 45': The p-rule is about 83.15%, indicating relatively less bias compared to the other groups.\n",
        "Covariance between Age Categories and Decision Boundary:\n",
        "\n",
        "For the group 'Less than 25': The covariance is approximately -0.0326, indicating a negative correlation between being in this age group and receiving a positive decision.\n",
        "For the group '25 - 45': The covariance is approximately 0.0247, suggesting a slight positive correlation.\n",
        "For the group 'Greater than 45': The covariance is approximately 0.0079, indicating a very small positive correlation."
      ],
      "metadata": {
        "id": "sUZqPKvt4QID"
      }
    },
    {
      "cell_type": "code",
      "source": [
        "def optimize_fairness_age_with_accuracy_constraints(model, x_test, y_test, sensitive_attr_data, age_categories, gamma=0.15):\n",
        "    \"\"\"\n",
        "    Optimize fairness with respect to age categories subject to accuracy constraints.\n",
        "    \"\"\"\n",
        "    initial_accuracy = accuracy_score(y_test, model.predict(x_test))\n",
        "    target_accuracy = initial_accuracy * (1 - gamma)\n",
        "    thresholds = np.linspace(0, 1, 100)\n",
        "\n",
        "    best_results = {}\n",
        "\n",
        "    for age_group in age_categories:\n",
        "        best_threshold = 0.5  # Initial decision threshold\n",
        "        best_p_rule = 0\n",
        "        best_covariance = float('inf')\n",
        "        best_accuracy = initial_accuracy\n",
        "\n",
        "        for threshold in thresholds:\n",
        "            # Apply the threshold\n",
        "            y_pred_adjusted = (model.predict_proba(x_test)[:, 1] >= threshold).astype(int)\n",
        "\n",
        "            # Calculate accuracy\n",
        "            current_accuracy = accuracy_score(y_test, y_pred_adjusted)\n",
        "            if current_accuracy < target_accuracy:\n",
        "                continue  # Skip if accuracy constraint is not met\n",
        "\n",
        "            # Calculate p-rule and covariance for the current age group\n",
        "            protected_group = sensitive_attr_data == age_group\n",
        "            non_protected_group = sensitive_attr_data != age_group\n",
        "\n",
        "            protected_positive_rate = np.mean(y_pred_adjusted[protected_group])\n",
        "            non_protected_positive_rate = np.mean(y_pred_adjusted[non_protected_group])\n",
        "            if non_protected_positive_rate == 0:  # Avoid division by zero\n",
        "                continue\n",
        "\n",
        "            current_p_rule = min(protected_positive_rate / non_protected_positive_rate,\n",
        "                                 non_protected_positive_rate / protected_positive_rate) * 100\n",
        "            current_covariance = np.cov(protected_group, y_pred_adjusted)[0, 1]\n",
        "\n",
        "            # Update the best threshold if it has higher p-rule or lower covariance\n",
        "            if current_p_rule > best_p_rule or (current_p_rule == best_p_rule and abs(current_covariance) < abs(best_covariance)):\n",
        "                best_threshold = threshold\n",
        "                best_p_rule = current_p_rule\n",
        "                best_accuracy = current_accuracy\n",
        "                best_covariance = current_covariance\n",
        "\n",
        "        best_results[age_group] = {\n",
        "            'threshold': best_threshold,\n",
        "            'accuracy': best_accuracy,\n",
        "            'p_rule': best_p_rule,\n",
        "            'covariance': best_covariance\n",
        "        }\n",
        "\n",
        "    return best_results\n",
        "\n",
        "# Optimizing fairness with accuracy constraint for 'age_cat_mapped'\n",
        "gamma_value_age = 0.15\n",
        "optimized_results_age = optimize_fairness_age_with_accuracy_constraints(\n",
        "    clf_unconstrained_age, x_test_age, y_test_age, data_test_age[sensitive_attr_age], age_cat_mapping.values(), gamma=gamma_value_age\n",
        ")\n",
        "\n",
        "optimized_results_age"
      ],
      "metadata": {
        "colab": {
          "base_uri": "https://localhost:8080/"
        },
        "id": "TGYpUCAk4Uxc",
        "outputId": "d7255cba-158a-4777-834c-27d693e65c5c"
      },
      "execution_count": 32,
      "outputs": [
        {
          "output_type": "execute_result",
          "data": {
            "text/plain": [
              "{0: {'threshold': 0.38383838383838387,\n",
              "  'accuracy': 0.5981524249422633,\n",
              "  'p_rule': 80.32585252450748,\n",
              "  'covariance': -0.021748494149488005},\n",
              " 1: {'threshold': 0.797979797979798,\n",
              "  'accuracy': 0.5796766743648961,\n",
              "  'p_rule': 98.67822318526544,\n",
              "  'covariance': 0.00011718099661475575},\n",
              " 2: {'threshold': 0.37373737373737376,\n",
              "  'accuracy': 0.5939953810623556,\n",
              "  'p_rule': 97.92574724448001,\n",
              "  'covariance': 0.00222451793573615}}"
            ]
          },
          "metadata": {},
          "execution_count": 32
        }
      ]
    },
    {
      "cell_type": "markdown",
      "source": [
        "Age Group 'Less than 25':\n",
        "\n",
        "Best Decision Threshold: Approximately **0.384.**\n",
        "Accuracy: About **59.82%.**\n",
        "P-Rule: Approximately **80.33%**, indicating improved fairness compared to the unconstrained model.\n",
        "\n",
        "\n",
        "Age Group '25 - 45':\n",
        "Best Decision Threshold: Approximately **0.798.**\n",
        "Accuracy: About** 57.97%.**\n",
        "P-Rule: Approximately **98.68%**, indicating very high fairness.\n",
        "\n",
        "Best Decision Threshold: Approximately **0.374.**\n",
        "Accuracy: About **59.40%**.\n",
        "P-Rule: Approximately **97.93%**, also indicating very high fairness.\n",
        "Covariance: Approximately **0.0022**, indicating a minimal positive correlation.\n",
        "\n",
        "These results demonstrate that with a gamma value of **0.15**, the model achieves a better balance between fairness and accuracy across different age groups compared to the unconstrained model. The p-rule values are significantly higher, suggesting less bias, especially for the younger age group, which had the most significant bias in the unconstrained model."
      ],
      "metadata": {
        "id": "Z6H5cx894ZAP"
      }
    },
    {
      "cell_type": "markdown",
      "source": [
        "# Task A7: Information Theoretic Measures for Fairness-aware Feature selection (FFS)"
      ],
      "metadata": {
        "id": "XbA2GIqAkX5e"
      }
    },
    {
      "cell_type": "markdown",
      "source": [
        "referring to this link: https://arxiv.org/abs/2106.00772"
      ],
      "metadata": {
        "id": "5fp3JcEooL8Y"
      }
    },
    {
      "cell_type": "markdown",
      "source": [
        "**Bivariate decomposition of mutual information**:\n",
        "\n",
        "$I(T; R_1, R_2) = UI(T;R_1 \\setminus R_2) + UI(T; R_2 \\setminus R_1) + SI(T; R_1, R_2) + CI(T; R_1, R_2)$\n",
        "\n",
        "mutual information between random variable $T$ and random variables $R_1$ and $R_2$ \\\\\n",
        "= unique information shared between $T$ and $R_1$ but not $R_2$ \\\\\n",
        "$+$ unique information shared between $T$ and $R_2$ but not $R_1$ \\\\\n",
        "$+$ shared information between $T$, $R_1$, and $R_2$ \\\\\n",
        "$+$ synergistic information between $T$, $R_1$, and $R_2$\n",
        "\n",
        "\n"
      ],
      "metadata": {
        "id": "cmVSYaa2OHMA"
      }
    },
    {
      "cell_type": "markdown",
      "source": [
        "(Generalized formula) \\\\\n",
        "$I(T; R_i) = UI(T; R_i \\setminus R_j) + SI(T; R_1, R_2), \\quad i \\neq j, \\quad i, j \\in \\{1,2\\}$\n",
        "\n",
        "mutual information between $T$ and one of the random variables $R_i$ where $i$ can be either 1 or 2 \\\\\n",
        "= unique information shared between $T$ and $R_i$ but not $R_j$, where $i \\neq j$ and both $i$ and $j$ can be 1 or 2 \\\\\n",
        "$+$ shared information between $T$, $R_1$, and $R_2$"
      ],
      "metadata": {
        "id": "TahxYbTjOy3P"
      }
    },
    {
      "cell_type": "markdown",
      "source": [
        "In our study, $T$ is recidivism (\"whether or not the defendant recidivated within two years\") and $R_i$ is the defendent's race (Caucasian or African-American)."
      ],
      "metadata": {
        "id": "oXNrqWtoUiUU"
      }
    },
    {
      "cell_type": "markdown",
      "source": [
        "# 1. Pre-processing"
      ],
      "metadata": {
        "id": "a1-ElUBp0y5n"
      }
    },
    {
      "cell_type": "code",
      "source": [
        "# 1. Data Import and Selection\n",
        "columns_required = [\n",
        "    'age', 'c_charge_degree', 'race', 'age_cat', 'sex',\n",
        "    'priors_count', 'is_recid', 'two_year_recid',\n",
        "    'c_jail_in', 'c_jail_out'\n",
        "]\n",
        "\n",
        "print(\"Initial dataset shape:\", data.shape)\n",
        "\n",
        "# Checking the unique values of race to ensure all necessary mappings are accounted for\n",
        "print(\"Unique race values in dataset:\", data['race'].unique())\n",
        "\n",
        "# 2. Feature Encoding\n",
        "def encode_features(df):\n",
        "    race_mapping = {'African-American': 0, 'Caucasian': 1}\n",
        "    sex_mapping = {'Male': 1, 'Female': 0}\n",
        "    age_cat_mapping = {'Less than 25': 0, '25 - 45': 1, 'Greater than 45': 2}\n",
        "    c_charge_degree_mapping = {'F': 0, 'M': 1}\n",
        "\n",
        "    # Keep records for African-American and Caucasian\n",
        "    df_filtered = df[df['race'].isin(race_mapping.keys())]\n",
        "    print(\"Shape after filtering for race:\", df_filtered.shape)\n",
        "\n",
        "    df_filtered['race'] = df_filtered['race'].map(race_mapping)\n",
        "    df_filtered['sex'] = df_filtered['sex'].map(sex_mapping)\n",
        "    df_filtered['age_cat'] = df_filtered['age_cat'].map(age_cat_mapping)\n",
        "    df_filtered['c_charge_degree'] = df_filtered['c_charge_degree'].map(c_charge_degree_mapping)\n",
        "\n",
        "    return df_filtered\n",
        "\n",
        "processed_data = encode_features(data)\n",
        "\n",
        "# 3. Calculating Length of Stay\n",
        "processed_data['c_jail_in'] = pd.to_datetime(processed_data['c_jail_in'])\n",
        "processed_data['c_jail_out'] = pd.to_datetime(processed_data['c_jail_out'])\n",
        "processed_data['length_of_stay'] = (processed_data['c_jail_out'] - processed_data['c_jail_in']).dt.days\n",
        "\n",
        "# Apply the specified bins to the length of stay\n",
        "processed_data['length_of_stay'] = processed_data['length_of_stay'].apply(\n",
        "    lambda days: 0 if days <= 7 else (2 if days > 90 else 1)\n",
        ")\n",
        "\n",
        "# 5. Processing Prior Crime Counts\n",
        "processed_data['priors_count'] = processed_data['priors_count'].apply(\n",
        "    lambda count: 0 if count == 0 else (2 if count > 3 else 1)\n",
        ")\n",
        "\n",
        "# 6. Handling Duplicate Values\n",
        "final_dataset = processed_data.drop_duplicates()\n",
        "print(\"Final dataset shape after dropping duplicates:\", final_dataset.shape)\n",
        "\n",
        "# 7. # Split the dataset into training, validation, and test sets\n",
        "train_features, remaining_features, train_target, remaining_target = train_test_split(\n",
        "    final_dataset.drop(columns=[\"two_year_recid\"]), final_dataset[\"two_year_recid\"], train_size=5/7.0\n",
        ")\n",
        "validation_features, test_features, validation_target, test_target = train_test_split(\n",
        "    remaining_features, remaining_target, test_size=0.5\n",
        ")\n"
      ],
      "metadata": {
        "colab": {
          "base_uri": "https://localhost:8080/"
        },
        "id": "xwGDGxxv0yFj",
        "outputId": "9ae27d48-5b4b-4cde-fbab-d4eaeac1b6fc"
      },
      "execution_count": 21,
      "outputs": [
        {
          "output_type": "stream",
          "name": "stdout",
          "text": [
            "Initial dataset shape: (7214, 53)\n",
            "Unique race values in dataset: ['Other' 'African-American' 'Caucasian' 'Hispanic' 'Native American'\n",
            " 'Asian']\n",
            "Shape after filtering for race: (6150, 53)\n",
            "Final dataset shape after dropping duplicates: (6150, 54)\n"
          ]
        }
      ]
    },
    {
      "cell_type": "markdown",
      "source": [
        "# 2. Calculate Mutual Information Scores (Bivariate, vACC, vD)"
      ],
      "metadata": {
        "id": "kwPZqv611LVf"
      }
    },
    {
      "cell_type": "markdown",
      "source": [
        "**Bivariate decomposition of mutual information**:\n",
        "\n",
        "$I(T; R_1, R_2) = UI(T;R_1 \\setminus R_2) + UI(T; R_2 \\setminus R_1) + SI(T; R_1, R_2) + CI(T; R_1, R_2)$\n",
        "\n",
        "mutual information between random variable $T$ and random variables $R_1$ and $R_2$ \\\\\n",
        "= unique information shared between $T$ and $R_1$ but not $R_2$ \\\\\n",
        "$+$ unique information shared between $T$ and $R_2$ but not $R_1$ \\\\\n",
        "$+$ shared information between $T$, $R_1$, and $R_2$ \\\\\n",
        "$+$ synergistic information between $T$, $R_1$, and $R_2$"
      ],
      "metadata": {
        "id": "mtZcFqp01OZw"
      }
    },
    {
      "cell_type": "markdown",
      "source": [
        "(Generalized formula) \\\\\n",
        "$I(T; R_i) = UI(T; R_i \\setminus R_j) + SI(T; R_1, R_2), \\quad i \\neq j, \\quad i, j \\in \\{1,2\\}$\n",
        "\n",
        "mutual information between $T$ and one of the random variables $R_i$ where $i$ can be either 1 or 2 \\\\\n",
        "= unique information shared between $T$ and $R_i$ but not $R_j$, where $i \\neq j$ and both $i$ and $j$ can be 1 or 2 \\\\\n",
        "$+$ shared information between $T$, $R_1$, and $R_2$"
      ],
      "metadata": {
        "id": "Miec1YvL1Q0t"
      }
    },
    {
      "cell_type": "markdown",
      "source": [
        "In our study, $T$ is recidivism (\"whether or not the defendant recidivated within two years\") and $R_i$ is the defendent's race (Caucasian or African-American)."
      ],
      "metadata": {
        "id": "_Rjk_dp71THW"
      }
    },
    {
      "cell_type": "code",
      "source": [
        "# Filter the dataset\n",
        "compas_filtered = data[data['race'].isin(['Caucasian', 'African-American'])]\n",
        "compas_filtered['race'] = compas_filtered['race'].map({'Caucasian': 1, 'African-American': 0})\n",
        "\n",
        "# 0, AA: 3696, 1, Cau: 2454, Total: 6150"
      ],
      "metadata": {
        "id": "zZ3oWz8h1Lvb"
      },
      "execution_count": 22,
      "outputs": []
    },
    {
      "cell_type": "code",
      "source": [
        "# Calculate mutual information score\n",
        "mi_race = mutual_info_score(compas_filtered['two_year_recid'], compas_filtered['race'])\n",
        "print (\"Mutual information between two_year_recid and race is: \", mi_race)"
      ],
      "metadata": {
        "colab": {
          "base_uri": "https://localhost:8080/"
        },
        "id": "LPurkcSU1h90",
        "outputId": "c3ae1f3e-c3b0-4943-f88d-391ae0c0b23e"
      },
      "execution_count": 23,
      "outputs": [
        {
          "output_type": "stream",
          "name": "stdout",
          "text": [
            "Mutual information between two_year_recid and race is:  0.007054417358854759\n"
          ]
        }
      ]
    },
    {
      "cell_type": "markdown",
      "source": [
        "*Interpretation*: \\\\\n",
        "+ The mutual information value being close to 0 indicates that the two variables are nearly independent. This means that the race of the defendant, in this context, *does NOT strongly predict or inform* us about the likelihood of recidivism within two years."
      ],
      "metadata": {
        "id": "_mLTgl7n1zcB"
      }
    },
    {
      "cell_type": "markdown",
      "source": [
        "**Accuracy Coefficient (vAcc)** \\\\\n",
        "For a subset of features $X_S$, the accuracy coefficient $vAcc(X_S)$ =\n",
        "\n",
        "$vAcc(X_S) = I(Y; X_S | X_{S_C}) = UI(Y; X_S \\setminus X_{S_C}) + CI(Y; X_S, X_{S_C})$\n",
        "\n",
        "accuracy coefficient for the subset of features $X_S$ \\\\\n",
        "= conditional mutual information between the target variable $Y$ and the features in $X_S$ given the complementary set of features $X_{S_C}$ \\\\\n",
        "= unique information shared between $Y$ and $X_S$ but not with $X_{S_C}$ \\\\\n",
        "$+$ synergistic information between $Y$, $X_S$, and $X_{S_C}$."
      ],
      "metadata": {
        "id": "3GqWWPZ52D7_"
      }
    },
    {
      "cell_type": "markdown",
      "source": [
        "In our study, $Y$ is recidivism (\"whether or not the defendant recidivated within two years\") and $X_S$ is the defendent's race (Caucasian or African-American)."
      ],
      "metadata": {
        "id": "QlQY9eiU2Cnm"
      }
    },
    {
      "cell_type": "code",
      "source": [
        "def conditional_mutual_info(df, Y, X_S, X_SC):\n",
        "    if not X_SC:\n",
        "        return mutual_info_score(df[Y], df[X_S])\n",
        "    combined_features = df[[X_S] + X_SC].apply(lambda row: '_'.join(row.values.astype(str)), axis=1)\n",
        "    mi_y_xs_xsc = mutual_info_score(df[Y], combined_features)\n",
        "    complementary_features = df[X_SC].apply(lambda row: '_'.join(row.values.astype(str)), axis=1)\n",
        "    mi_y_xsc = mutual_info_score(df[Y], complementary_features)\n",
        "    cmi = mi_y_xs_xsc - mi_y_xsc\n",
        "    return cmi\n",
        "\n",
        "# Change conditional variables here\n",
        "# Randomly selected\n",
        "X_SC = ['age', 'sex']\n",
        "\n",
        "cmi_score_pure = conditional_mutual_info(compas_filtered, 'two_year_recid', 'race', [])\n",
        "cmi_score_additional = conditional_mutual_info(compas_filtered, 'two_year_recid', 'race', X_SC)\n",
        "\n",
        "print(\"Mutual information between two_year_recid and race is: \", cmi_score_pure)\n",
        "print(\"Conditional mutual information between two_year_recid, race and conditioned on age & sex is: \", cmi_score_additional)"
      ],
      "metadata": {
        "colab": {
          "base_uri": "https://localhost:8080/"
        },
        "id": "Dwye_eJr1_NM",
        "outputId": "c30c3248-8e8e-4c2f-ea1f-750ac0911357"
      },
      "execution_count": 24,
      "outputs": [
        {
          "output_type": "stream",
          "name": "stdout",
          "text": [
            "Mutual information between two_year_recid and race is:  0.007054417358854759\n",
            "Conditional mutual information between two_year_recid, race and conditioned on age & sex is:  0.012090642380671007\n"
          ]
        }
      ]
    },
    {
      "cell_type": "markdown",
      "source": [
        "*Notes*: \\\\\n",
        "+ Because we have no complementary $X_{S_C}$ feature subsets, the conditional mutual information score is the same as bivariate information score.\n",
        "+ Can change the conditioned variables in code to see how CMI changes, capturing variables that contribute more information about recidivism that is not captured by race alone.\n",
        "\n",
        "*Interpretation*: \\\\\n",
        "+ A small but positive $vAcc$ indicates that knowing a defendant's race provides a slight amount of information about a defendent's recidivism, but this information is not strong. Therefore race, on its own, is not a highly predictive factor for recidivism.\n",
        "+ When considering the age and sex of the defendant along with their race, the amount of information about recidivism increases."
      ],
      "metadata": {
        "id": "bulk2hsX2Mz6"
      }
    },
    {
      "cell_type": "markdown",
      "source": [
        "**Discriminatory Effect (vD)**"
      ],
      "metadata": {
        "id": "aRnNiSbX2P4x"
      }
    },
    {
      "cell_type": "markdown",
      "source": [
        "The metric $ v^D(X_S) $, as defined, aims to quantify the discriminatory effect of a subset of features $ X_S $ in the context of a protected attribute $ A $. The formula provided is:\n",
        "\n",
        "$ v^D(X_S) = SI(Y; X_S, A) \\times I(X_S; A) \\times I(X_S; A | Y) $\n",
        "\n",
        "Where:\n",
        "\n",
        "- $ SI(Y; X_S, A) $ = Shared Information between the target variable $ Y $ and the combination of features $ X_S $ and the protected attribute $ A $.\n",
        "- $ I(X_S; A) $ = mutual information between the feature subset $ X_S $ and the protected attribute $ A $.\n",
        "- $ I(X_S; A | Y) $ = conditional mutual information between $ X_S $ and $ A $, given $ Y $."
      ],
      "metadata": {
        "id": "nbo39mGQ2SVT"
      }
    },
    {
      "cell_type": "code",
      "source": [
        "def shared_information(df, Y, X_S, A):\n",
        "    if isinstance(X_S, str):\n",
        "        X_S = [X_S]\n",
        "    mi_y_a = mutual_info_score(df[Y], df[A])\n",
        "    joint_X_S_A = df[X_S + [A]].apply(lambda row: '_'.join(row.values.astype(str)), axis=1)\n",
        "    mi_y_joint_x_s_a = mutual_info_score(df[Y], joint_X_S_A)\n",
        "    ui_y_a_x_s = mi_y_a - mi_y_joint_x_s_a\n",
        "    si = mi_y_a - ui_y_a_x_s\n",
        "    return max(si, 0)\n",
        "\n",
        "# conditional mutual information (cmi) calculated previously\n",
        "\n",
        "feature_subset = 'race'\n",
        "protected_attribute = 'race'\n",
        "\n",
        "si_pure = shared_information(compas_filtered, 'two_year_recid', feature_subset, protected_attribute)\n",
        "mi_pure = mutual_info_score(compas_filtered[feature_subset], compas_filtered[protected_attribute])\n",
        "\n",
        "vD_pure = si_pure * mi_pure * cmi_score_pure\n",
        "print(\"Discriminatory impact (vD) of race feature subset is: \", vD_pure)\n",
        "\n",
        "feature_subset = ['age', 'sex']\n",
        "protected_attribute = 'race'\n",
        "\n",
        "si_additional = shared_information(compas_filtered, 'two_year_recid', feature_subset, protected_attribute)\n",
        "\n",
        "combined_features = compas_filtered[feature_subset].apply(lambda row: '_'.join(row.values.astype(str)), axis=1)\n",
        "mi_additional = mutual_info_score(combined_features, compas_filtered[protected_attribute])\n",
        "\n",
        "vD_additional = si_additional * mi_additional * cmi_score_additional\n",
        "print(\"Discriminatory impact (vD) of age, sex feature subset is: \", vD_additional)"
      ],
      "metadata": {
        "colab": {
          "base_uri": "https://localhost:8080/"
        },
        "id": "cdz_p4u42U7d",
        "outputId": "ff3366c7-a9c9-4bee-a4e9-cb29ef906313"
      },
      "execution_count": 25,
      "outputs": [
        {
          "output_type": "stream",
          "name": "stdout",
          "text": [
            "Discriminatory impact (vD) of race feature subset is:  3.347250942628674e-05\n",
            "Discriminatory impact (vD) of age, sex feature subset is:  1.9407422695348022e-05\n"
          ]
        }
      ]
    },
    {
      "cell_type": "markdown",
      "source": [
        "*Interpretation*: \\\\\n",
        "+ vD for both face and age & sex is relatively small, suggesting that the direct discriminatory impact of race alone, or both age and sex, as measured by this metric, is minimal.\n",
        "+ However, even a small value can be significant, especially in sensitive applications like criminal justice.\n",
        "+ vD for age & sex feature subset is smaller compared to the race subset suggests that the combination of age and sex may have a lesser direct discriminatory impact on recidivism prediction than race alone, according to this metric."
      ],
      "metadata": {
        "id": "rvKVy7H12ZPj"
      }
    },
    {
      "cell_type": "markdown",
      "source": [
        "### **General insights drawn from score calculations**\n",
        "\n",
        "+ **Race as a Feature**: Race has a slightly higher impact on predicting recidivism compared to age and sex.\n",
        "\n",
        "+ **Combining Race with Age and Sex**: When we consider race together with age and sex, the information about recidivism prediction increases. This means these additional features add useful insights when combined with race.\n",
        "\n",
        "+ **Overall Insight**: Race is more influential in predicting recidivism than the combination of age and sex.\n",
        "\n",
        "(However, the overall impact of these features is limited, meaning that other factors not included in this analysis might be more significant in predicting recidivism. This is a limitations that future analysis on the COMPAS data set can address.)"
      ],
      "metadata": {
        "id": "W-o7Pju32bw8"
      }
    },
    {
      "cell_type": "markdown",
      "source": [
        "# 3. Choose a Baseline Model\n"
      ],
      "metadata": {
        "id": "kRi0PDJD2cyz"
      }
    },
    {
      "cell_type": "code",
      "source": [
        "# Creating extended dataset\n",
        "extended_dataset = final_dataset\n",
        "\n",
        "# Defining feature sets\n",
        "core_features = ['c_charge_degree', 'age_cat', 'sex', 'race', 'length_of_stay']\n",
        "extended_features_list = [\"priors_count\"] + core_features\n",
        "\n",
        "# Splitting the extended dataset into training, validation, and test sets\n",
        "train_set = extended_dataset[:int(len(extended_dataset) * (5/7))]\n",
        "validation_set = extended_dataset[int(len(extended_dataset) * (6/7)):]\n",
        "test_set = extended_dataset[int(len(extended_dataset) * (5/7)):int(len(extended_dataset) * (6/7))]\n",
        "\n",
        "# Preparing training, testing, and validation data\n",
        "train_data_core = train_set[core_features]\n",
        "train_data_extended = train_set[extended_features_list]\n",
        "train_labels = train_set[\"two_year_recid\"].to_numpy()\n",
        "train_priors_count = train_set[\"priors_count\"]\n",
        "\n",
        "test_data_core = test_set[core_features]\n",
        "test_data_extended = test_set[extended_features_list]\n",
        "test_labels = test_set[\"two_year_recid\"].to_numpy()\n",
        "test_priors_count = test_set[\"priors_count\"]\n",
        "\n",
        "validation_data_core = validation_set[core_features]\n",
        "validation_data_extended = validation_set[extended_features_list]\n",
        "validation_labels = validation_set[\"two_year_recid\"].to_numpy()\n",
        "validation_priors_count = validation_set[\"priors_count\"]\n",
        "\n",
        "# Displaying the first few rows of validation data and its shape\n",
        "print(validation_data_core.head())\n",
        "print(\"Validation data shape:\", np.shape(validation_data_core))\n",
        "\n",
        "# Logistic Regression models\n",
        "clf_priors_count = LogisticRegression().fit(train_data_extended, train_labels)\n",
        "accuracy_priors_count = clf_priors_count.score(validation_data_extended, validation_labels)\n",
        "\n",
        "clf_without_priors_count = LogisticRegression().fit(train_data_core, train_labels)\n",
        "accuracy_without_priors_count = clf_without_priors_count.score(validation_data_core, validation_labels)\n",
        "accuracy_priors_count, accuracy_without_priors_count"
      ],
      "metadata": {
        "colab": {
          "base_uri": "https://localhost:8080/"
        },
        "id": "FUiFmR4H2Guw",
        "outputId": "637738de-d3a4-469e-9881-fc424af09174"
      },
      "execution_count": 26,
      "outputs": [
        {
          "output_type": "stream",
          "name": "stdout",
          "text": [
            "      c_charge_degree  age_cat  sex  race  length_of_stay\n",
            "6187                0        1    1     0               0\n",
            "6189                0        2    1     0               1\n",
            "6190                0        1    1     0               0\n",
            "6191                0        0    1     0               0\n",
            "6192                1        1    1     0               0\n",
            "Validation data shape: (879, 5)\n"
          ]
        },
        {
          "output_type": "execute_result",
          "data": {
            "text/plain": [
              "(0.6439135381114903, 0.590443686006826)"
            ]
          },
          "metadata": {},
          "execution_count": 26
        }
      ]
    },
    {
      "cell_type": "markdown",
      "source": [
        "Clearly, the model with priors count feature has higher accuracy, which means the priors count is a senstive feature, and we need to include it.\n",
        "\n",
        "# 4. Define functions"
      ],
      "metadata": {
        "id": "ETNm2Fyy2n4w"
      }
    },
    {
      "cell_type": "code",
      "source": [
        "# Clear duplicates\n",
        "final_dataset = processed_data.drop_duplicates()\n",
        "print(\"Final dataset shape after dropping duplicates:\", final_dataset.shape)\n",
        "\n",
        "def uni_values_array(arr):\n",
        "    return [np.unique(arr[:, col]).tolist() for col in range(arr.shape[1])]\n",
        "\n",
        "def power_func(seq):\n",
        "    result = [[]]\n",
        "    for elem in seq:\n",
        "        result.extend([x + [elem] for x in result])\n",
        "    return result\n",
        "\n",
        "def unique_information(array_1, array_2):\n",
        "    assert array_1.shape[0] == array_2.shape[0], \"Arrays must have the same number of rows\"\n",
        "\n",
        "    concated_array = np.concatenate((array_1, array_2), axis=1)\n",
        "    cartesian_product = itertools.product(*uni_values_array(concated_array))\n",
        "    IQ = 0\n",
        "    for i in cartesian_product:\n",
        "        mask = (concated_array == i).all(axis=1)\n",
        "        r1_r2 = np.mean(mask)\n",
        "        r1 = np.mean((array_1 == i[:array_1.shape[1]]).all(axis=1))\n",
        "        r2 = np.mean((array_2 == i[array_1.shape[1]:]).all(axis=1))\n",
        "        IQ_iter = r1_r2 * np.log(r1_r2 / r1) / r1 if r1_r2 > 0 and r1 > 0 and r2 > 0 else 0\n",
        "        IQ += np.abs(IQ_iter)\n",
        "    return IQ\n",
        "\n",
        "def unique_infor_condi(array_1, array_2, conditional):\n",
        "    assert (array_1.shape[0] == array_2.shape[0]) and (array_1.shape[0] == conditional.shape[0]), \"Arrays must have the same number of rows\"\n",
        "\n",
        "    concated_array_all = np.concatenate((array_1, array_2, conditional), axis=1)\n",
        "    cartesian_product = itertools.product(*uni_values_array(concated_array_all))\n",
        "    IQ = 0\n",
        "    for i in cartesian_product:\n",
        "        mask_all = (concated_array_all == i).all(axis=1)\n",
        "        mask_1 = (array_1 == i[:array_1.shape[1]]).all(axis=1)\n",
        "        mask_2_cond = (concated_array_all[:, array_1.shape[1]:] == i[array_1.shape[1]:]).all(axis=1)\n",
        "        r1_r2 = np.mean(mask_all)\n",
        "        r1 = np.mean(mask_1)\n",
        "        r2 = np.mean(mask_2_cond)\n",
        "        r1_given_r2 = np.mean(mask_1[mask_2_cond]) if np.any(mask_2_cond) else 0\n",
        "        IQ_iter = r1_r2 * np.log(r1_r2 / r2) / r1_given_r2 if r1_r2 > 0 and r1 > 0 and r2 > 0 and r1_given_r2 > 0 else 0\n",
        "        IQ += np.abs(IQ_iter)\n",
        "    return IQ\n",
        "\n",
        "def accuracy_coef(y, x_s, x_s_c, A):\n",
        "    conditional = np.concatenate((x_s_c, A), axis=1)\n",
        "    return unique_infor_condi(y, x_s, conditional)\n",
        "\n",
        "def discrimination_coef(y, x_s, A):\n",
        "    x_s_a = np.concatenate((x_s, A), axis=1)\n",
        "    return unique_information(y, x_s_a) * unique_information(x_s, A) * unique_infor_condi(x_s, A, y)\n",
        "\n",
        "def marginal_accuracy_coef(y_train, x_train, A, set_tracker):\n",
        "    n_features = x_train.shape[1]\n",
        "    shapley_value = 0\n",
        "    for sc_idx in itertools.chain.from_iterable(itertools.combinations(range(n_features), r) for r in range(n_features)):\n",
        "        if set_tracker in sc_idx:\n",
        "            continue\n",
        "        coef = math.factorial(len(sc_idx)) * math.factorial(n_features - len(sc_idx) - 1) / math.factorial(n_features)\n",
        "        sc_idx_with_i = list(sc_idx) + [set_tracker]\n",
        "        vTU = accuracy_coef(y_train.reshape(-1, 1), x_train[:, sc_idx_with_i], x_train[:, list(set(range(n_features)) - set(sc_idx_with_i))], A.reshape(-1, 1))\n",
        "        vT = accuracy_coef(y_train.reshape(-1, 1), x_train[:, sc_idx], x_train[:, list(set(range(n_features)) - set(sc_idx))], A.reshape(-1, 1))\n",
        "        shapley_value += coef * (vTU - vT)\n",
        "    return shapley_value\n",
        "\n",
        "def marginal_discrimination_coef(y_train, x_train, A, set_tracker):\n",
        "    n_features = x_train.shape[1]\n",
        "    shapley_value = 0\n",
        "    for sc_idx in itertools.chain.from_iterable(itertools.combinations(range(n_features), r) for r in range(n_features)):\n",
        "        if set_tracker in sc_idx:\n",
        "            continue\n",
        "        coef = math.factorial(len(sc_idx)) * math.factorial(n_features - len(sc_idx) - 1) / math.factorial(n_features)\n",
        "        sc_idx_with_i = list(sc_idx) + [set_tracker]\n",
        "        vTU = discrimination_coef(y_train.reshape(-1, 1), x_train[:, sc_idx_with_i], A.reshape(-1, 1))\n",
        "        vT = discrimination_coef(y_train.reshape(-1, 1), x_train[:, sc_idx], A.reshape(-1, 1))\n",
        "        shapley_value += coef * (vTU - vT)\n",
        "    return shapley_value"
      ],
      "metadata": {
        "colab": {
          "base_uri": "https://localhost:8080/"
        },
        "id": "bAp0bOLl2nVv",
        "outputId": "8a93d349-ade0-4fd6-c49d-f679e8c35caf"
      },
      "execution_count": 27,
      "outputs": [
        {
          "output_type": "stream",
          "name": "stdout",
          "text": [
            "Final dataset shape after dropping duplicates: (6150, 54)\n"
          ]
        }
      ]
    },
    {
      "cell_type": "markdown",
      "source": [
        "# 5. Calculate Shapley Value"
      ],
      "metadata": {
        "id": "KVIpgUzk2tyU"
      }
    },
    {
      "cell_type": "markdown",
      "source": [
        "### Shapley Value"
      ],
      "metadata": {
        "id": "0lwq1hih21Kh"
      }
    },
    {
      "cell_type": "markdown",
      "source": [
        "As our ultimate goal is to estimate the marginal impact of each feature, we propose extracting a score for each feature using Shapley value. This is a concept from cooperative game theory that allows assigning values to quantify an individual’s contribution to the game."
      ],
      "metadata": {
        "id": "8tfE6b5622KS"
      }
    },
    {
      "cell_type": "markdown",
      "source": [
        "Let P denote the power set. Given a characteristic function $v(·) : P((n)) → R$, the Shapley value function\n",
        "$φ(·) : P([n]) → R$ is defined as:\n",
        "$φi = \\sum\\limits_{T ⊆ [n]/i} \\frac{|T|!(n−|T|−1)!}{n!} (v(T ∪{i})−v(T)), ∀i∈[n]$"
      ],
      "metadata": {
        "id": "yuYFmJ9S24Jn"
      }
    },
    {
      "cell_type": "markdown",
      "source": [
        "Given the characteristic functions $vAcc(·)$ and $vD(·)$, the corresponding Shapley value functions are denoted by $φAcc(·)$ and $φD(·)$ We refer to these as marginal accuracy coefficient and marginal discrimination coefficient, respectively."
      ],
      "metadata": {
        "id": "tCP37lXc26Vt"
      }
    },
    {
      "cell_type": "code",
      "source": [
        "# Calculate Shapley values for each feature\n",
        "shapley_acc = []\n",
        "shapley_disc = []\n",
        "features = extended_features_list  # Using the extended set of features\n",
        "for i in range(len(features)):\n",
        "    acc_i = marginal_accuracy_coef(train_labels, train_data_extended[features].to_numpy(), train_data_extended['race'].to_numpy(), i)\n",
        "    disc_i = marginal_discrimination_coef(train_labels, train_data_extended[features].to_numpy(), train_data_extended['race'].to_numpy(), i)\n",
        "    shapley_acc.append(acc_i)\n",
        "    shapley_disc.append(disc_i)\n",
        "\n",
        "# Create a DataFrame to display the Shapley values for each feature\n",
        "shapley = pd.DataFrame(list(zip(features, shapley_acc, shapley_disc)),\n",
        "                       columns=[\"Feature\", \"Accuracy\", 'Discrimination'])\n",
        "\n",
        "# Calculate and display the fairness utility score for different alpha values\n",
        "alpha_values = [0.000001, 0.00001, 0.0001]\n",
        "for alpha in alpha_values:\n",
        "    alpha_df = pd.DataFrame(list(zip(features, shapley_acc, shapley_disc, fairness_utility_score(shapley['Accuracy'], shapley['Discrimination'], alpha))),\n",
        "                            columns=[\"Feature\", \"Accuracy\", 'Discrimination', 'F_score'])\n",
        "    print(f\"Alpha = {alpha}\")\n",
        "    print(alpha_df)"
      ],
      "metadata": {
        "id": "2t2iTi4u2tS0"
      },
      "execution_count": null,
      "outputs": []
    },
    {
      "cell_type": "markdown",
      "source": [
        "**Outputs Below:**\n",
        "\n",
        "\n",
        "> Alpha = 1e-06\n",
        "\n",
        "           Feature            Accuracy       Discrimination       F_score\n",
        "           priors_count       0.000000e+00    8090.544032        -0.008091\n",
        "           c_charge_degree   -9.992007e-17    6308.746881        -0.006309\n",
        "           age_cat           -1.147230e-16    7990.621865        -0.007991\n",
        "           sex                1.295260e-16    6057.511767        -0.006058\n",
        "           race              -2.035409e-16   -36275.753860        0.036276\n",
        "           length_of_stay    -1.406282e-16    7828.329315        -0.007828\n",
        "\n",
        "> Alpha = 1e-05\n",
        "\n",
        "           Feature            Accuracy       Discrimination       F_score\n",
        "           priors_count       0.000000e+00     8090.544032       -0.080905\n",
        "           c_charge_degree   -9.992007e-17     6308.746881       -0.063087\n",
        "           age_cat           -1.147230e-16     7990.621865       -0.079906\n",
        "           sex                1.295260e-16     6057.511767       -0.060575\n",
        "           race              -2.035409e-16   -36275.753860        0.362758\n",
        "           length_of_stay    -1.406282e-16     7828.329315       -0.078283\n",
        "\n",
        "> Alpha = 0.0001\n",
        "\n",
        "           Feature            Accuracy       Discrimination       F_score\n",
        "           priors_count       0.000000e+00     8090.544032       -0.809054\n",
        "           c_charge_degree   -9.992007e-17     6308.746881.      -0.630875\n",
        "           age_cat           -1.147230e-16     7990.621865       -0.799062\n",
        "           sex                1.295260e-16     6057.511767       -0.605751\n",
        "           race              -2.035409e-16   -36275.753860        3.627575\n",
        "           length_of_stay    -1.406282e-16     7828.329315       -0.782833"
      ],
      "metadata": {
        "id": "B8-2ZssQIdz5"
      }
    },
    {
      "cell_type": "markdown",
      "source": [
        "### Calibration"
      ],
      "metadata": {
        "id": "FLmDeYvs2-gI"
      }
    },
    {
      "cell_type": "markdown",
      "source": [
        "$P(Ŷ = Y | S = 0) = P(Ŷ = Y | S = 1)$"
      ],
      "metadata": {
        "id": "kKoibA4v3BRM"
      }
    },
    {
      "cell_type": "code",
      "source": [
        "# 1. Remove specific features and train a logistic regression model.\n",
        "train_data_vc = train_data_extended.drop([\"race\"], axis=1)\n",
        "validation_data_vc = validation_data_extended.drop([\"race\"], axis=1)\n",
        "clf_vc = LogisticRegression(random_state=0).fit(train_data_vc, train_labels)\n",
        "accuracy_vc = clf_vc.score(validation_data_vc, validation_labels)\n",
        "\n",
        "train_data_ls = train_data_extended.drop([\"length_of_stay\"], axis=1)\n",
        "validation_data_ls = validation_data_extended.drop([\"length_of_stay\"], axis=1)\n",
        "clf_ls = LogisticRegression(random_state=0).fit(train_data_ls, train_labels)\n",
        "accuracy_ls = clf_ls.score(validation_data_ls, validation_labels)\n",
        "\n",
        "# 2. Define a calibration metric function.\n",
        "def MyCalibration(sensitive_attr, y_pred, y_true):\n",
        "    cau_index = np.where(sensitive_attr == 1)[0]\n",
        "    african_index = np.where(sensitive_attr == 0)[0]\n",
        "\n",
        "    y_pred_cau = y_pred[cau_index]\n",
        "    y_true_cau = y_true[cau_index]\n",
        "    Acc_cau = sum(y_pred_cau == y_true_cau)/len(y_pred_cau)\n",
        "\n",
        "    y_pred_african = y_pred[african_index]\n",
        "    y_true_african = y_true[african_index]\n",
        "    Acc_african = sum(y_pred_african == y_true_african)/len(y_pred_african)\n",
        "\n",
        "    calibration = abs(Acc_cau - Acc_african)\n",
        "    return(calibration)\n",
        "\n",
        "# 3. Evaluate the impact of removing each feature on model performance.\n",
        "Accuracy_lr = []\n",
        "Calibration_lr = []\n",
        "for feature in ['base'] + extended_features_list:\n",
        "    if feature == 'base':\n",
        "        clf = LogisticRegression(random_state=0).fit(train_data_extended, train_labels)\n",
        "    else:\n",
        "        train_data_subset = train_data_extended.drop([feature], axis=1)\n",
        "        clf = LogisticRegression(random_state=0).fit(train_data_subset, train_labels)\n",
        "\n",
        "    test_data_subset = test_data_extended.drop([feature], axis=1) if feature != 'base' else test_data_extended\n",
        "    Accuracy_lr.append(clf.score(test_data_subset, test_labels))\n",
        "    Calibration_lr.append(MyCalibration(test_data_extended['race'], clf.predict(test_data_subset), test_labels))\n",
        "\n",
        "# 4. Create a conclusions DataFrame.\n",
        "Conclusion_lr = pd.DataFrame(list(zip(['base'] + extended_features_list, Accuracy_lr, Calibration_lr)),\n",
        "                             columns=[\"Eliminating Feature\", \"Accuracy\", \"Calibration\"])\n",
        "\n",
        "display(Conclusion_lr)"
      ],
      "metadata": {
        "colab": {
          "base_uri": "https://localhost:8080/",
          "height": 266
        },
        "id": "xtm0Wa5j2-C6",
        "outputId": "f9d848fe-2698-4d0c-d0c8-580f71045009"
      },
      "execution_count": 33,
      "outputs": [
        {
          "output_type": "display_data",
          "data": {
            "text/plain": [
              "  Eliminating Feature  Accuracy  Calibration\n",
              "0                base  0.653015     0.037191\n",
              "1        priors_count  0.591581     0.045337\n",
              "2     c_charge_degree  0.653015     0.032520\n",
              "3             age_cat  0.623436     0.009118\n",
              "4                 sex  0.653015     0.041862\n",
              "5                race  0.663254     0.031484\n",
              "6      length_of_stay  0.668942     0.045959"
            ],
            "text/html": [
              "\n",
              "  <div id=\"df-3dd11bab-3b68-457a-9ecb-983b8e843e91\" class=\"colab-df-container\">\n",
              "    <div>\n",
              "<style scoped>\n",
              "    .dataframe tbody tr th:only-of-type {\n",
              "        vertical-align: middle;\n",
              "    }\n",
              "\n",
              "    .dataframe tbody tr th {\n",
              "        vertical-align: top;\n",
              "    }\n",
              "\n",
              "    .dataframe thead th {\n",
              "        text-align: right;\n",
              "    }\n",
              "</style>\n",
              "<table border=\"1\" class=\"dataframe\">\n",
              "  <thead>\n",
              "    <tr style=\"text-align: right;\">\n",
              "      <th></th>\n",
              "      <th>Eliminating Feature</th>\n",
              "      <th>Accuracy</th>\n",
              "      <th>Calibration</th>\n",
              "    </tr>\n",
              "  </thead>\n",
              "  <tbody>\n",
              "    <tr>\n",
              "      <th>0</th>\n",
              "      <td>base</td>\n",
              "      <td>0.653015</td>\n",
              "      <td>0.037191</td>\n",
              "    </tr>\n",
              "    <tr>\n",
              "      <th>1</th>\n",
              "      <td>priors_count</td>\n",
              "      <td>0.591581</td>\n",
              "      <td>0.045337</td>\n",
              "    </tr>\n",
              "    <tr>\n",
              "      <th>2</th>\n",
              "      <td>c_charge_degree</td>\n",
              "      <td>0.653015</td>\n",
              "      <td>0.032520</td>\n",
              "    </tr>\n",
              "    <tr>\n",
              "      <th>3</th>\n",
              "      <td>age_cat</td>\n",
              "      <td>0.623436</td>\n",
              "      <td>0.009118</td>\n",
              "    </tr>\n",
              "    <tr>\n",
              "      <th>4</th>\n",
              "      <td>sex</td>\n",
              "      <td>0.653015</td>\n",
              "      <td>0.041862</td>\n",
              "    </tr>\n",
              "    <tr>\n",
              "      <th>5</th>\n",
              "      <td>race</td>\n",
              "      <td>0.663254</td>\n",
              "      <td>0.031484</td>\n",
              "    </tr>\n",
              "    <tr>\n",
              "      <th>6</th>\n",
              "      <td>length_of_stay</td>\n",
              "      <td>0.668942</td>\n",
              "      <td>0.045959</td>\n",
              "    </tr>\n",
              "  </tbody>\n",
              "</table>\n",
              "</div>\n",
              "    <div class=\"colab-df-buttons\">\n",
              "\n",
              "  <div class=\"colab-df-container\">\n",
              "    <button class=\"colab-df-convert\" onclick=\"convertToInteractive('df-3dd11bab-3b68-457a-9ecb-983b8e843e91')\"\n",
              "            title=\"Convert this dataframe to an interactive table.\"\n",
              "            style=\"display:none;\">\n",
              "\n",
              "  <svg xmlns=\"http://www.w3.org/2000/svg\" height=\"24px\" viewBox=\"0 -960 960 960\">\n",
              "    <path d=\"M120-120v-720h720v720H120Zm60-500h600v-160H180v160Zm220 220h160v-160H400v160Zm0 220h160v-160H400v160ZM180-400h160v-160H180v160Zm440 0h160v-160H620v160ZM180-180h160v-160H180v160Zm440 0h160v-160H620v160Z\"/>\n",
              "  </svg>\n",
              "    </button>\n",
              "\n",
              "  <style>\n",
              "    .colab-df-container {\n",
              "      display:flex;\n",
              "      gap: 12px;\n",
              "    }\n",
              "\n",
              "    .colab-df-convert {\n",
              "      background-color: #E8F0FE;\n",
              "      border: none;\n",
              "      border-radius: 50%;\n",
              "      cursor: pointer;\n",
              "      display: none;\n",
              "      fill: #1967D2;\n",
              "      height: 32px;\n",
              "      padding: 0 0 0 0;\n",
              "      width: 32px;\n",
              "    }\n",
              "\n",
              "    .colab-df-convert:hover {\n",
              "      background-color: #E2EBFA;\n",
              "      box-shadow: 0px 1px 2px rgba(60, 64, 67, 0.3), 0px 1px 3px 1px rgba(60, 64, 67, 0.15);\n",
              "      fill: #174EA6;\n",
              "    }\n",
              "\n",
              "    .colab-df-buttons div {\n",
              "      margin-bottom: 4px;\n",
              "    }\n",
              "\n",
              "    [theme=dark] .colab-df-convert {\n",
              "      background-color: #3B4455;\n",
              "      fill: #D2E3FC;\n",
              "    }\n",
              "\n",
              "    [theme=dark] .colab-df-convert:hover {\n",
              "      background-color: #434B5C;\n",
              "      box-shadow: 0px 1px 3px 1px rgba(0, 0, 0, 0.15);\n",
              "      filter: drop-shadow(0px 1px 2px rgba(0, 0, 0, 0.3));\n",
              "      fill: #FFFFFF;\n",
              "    }\n",
              "  </style>\n",
              "\n",
              "    <script>\n",
              "      const buttonEl =\n",
              "        document.querySelector('#df-3dd11bab-3b68-457a-9ecb-983b8e843e91 button.colab-df-convert');\n",
              "      buttonEl.style.display =\n",
              "        google.colab.kernel.accessAllowed ? 'block' : 'none';\n",
              "\n",
              "      async function convertToInteractive(key) {\n",
              "        const element = document.querySelector('#df-3dd11bab-3b68-457a-9ecb-983b8e843e91');\n",
              "        const dataTable =\n",
              "          await google.colab.kernel.invokeFunction('convertToInteractive',\n",
              "                                                    [key], {});\n",
              "        if (!dataTable) return;\n",
              "\n",
              "        const docLinkHtml = 'Like what you see? Visit the ' +\n",
              "          '<a target=\"_blank\" href=https://colab.research.google.com/notebooks/data_table.ipynb>data table notebook</a>'\n",
              "          + ' to learn more about interactive tables.';\n",
              "        element.innerHTML = '';\n",
              "        dataTable['output_type'] = 'display_data';\n",
              "        await google.colab.output.renderOutput(dataTable, element);\n",
              "        const docLink = document.createElement('div');\n",
              "        docLink.innerHTML = docLinkHtml;\n",
              "        element.appendChild(docLink);\n",
              "      }\n",
              "    </script>\n",
              "  </div>\n",
              "\n",
              "\n",
              "<div id=\"df-53d1b68b-717c-402b-833e-bb50df6f60de\">\n",
              "  <button class=\"colab-df-quickchart\" onclick=\"quickchart('df-53d1b68b-717c-402b-833e-bb50df6f60de')\"\n",
              "            title=\"Suggest charts\"\n",
              "            style=\"display:none;\">\n",
              "\n",
              "<svg xmlns=\"http://www.w3.org/2000/svg\" height=\"24px\"viewBox=\"0 0 24 24\"\n",
              "     width=\"24px\">\n",
              "    <g>\n",
              "        <path d=\"M19 3H5c-1.1 0-2 .9-2 2v14c0 1.1.9 2 2 2h14c1.1 0 2-.9 2-2V5c0-1.1-.9-2-2-2zM9 17H7v-7h2v7zm4 0h-2V7h2v10zm4 0h-2v-4h2v4z\"/>\n",
              "    </g>\n",
              "</svg>\n",
              "  </button>\n",
              "\n",
              "<style>\n",
              "  .colab-df-quickchart {\n",
              "      --bg-color: #E8F0FE;\n",
              "      --fill-color: #1967D2;\n",
              "      --hover-bg-color: #E2EBFA;\n",
              "      --hover-fill-color: #174EA6;\n",
              "      --disabled-fill-color: #AAA;\n",
              "      --disabled-bg-color: #DDD;\n",
              "  }\n",
              "\n",
              "  [theme=dark] .colab-df-quickchart {\n",
              "      --bg-color: #3B4455;\n",
              "      --fill-color: #D2E3FC;\n",
              "      --hover-bg-color: #434B5C;\n",
              "      --hover-fill-color: #FFFFFF;\n",
              "      --disabled-bg-color: #3B4455;\n",
              "      --disabled-fill-color: #666;\n",
              "  }\n",
              "\n",
              "  .colab-df-quickchart {\n",
              "    background-color: var(--bg-color);\n",
              "    border: none;\n",
              "    border-radius: 50%;\n",
              "    cursor: pointer;\n",
              "    display: none;\n",
              "    fill: var(--fill-color);\n",
              "    height: 32px;\n",
              "    padding: 0;\n",
              "    width: 32px;\n",
              "  }\n",
              "\n",
              "  .colab-df-quickchart:hover {\n",
              "    background-color: var(--hover-bg-color);\n",
              "    box-shadow: 0 1px 2px rgba(60, 64, 67, 0.3), 0 1px 3px 1px rgba(60, 64, 67, 0.15);\n",
              "    fill: var(--button-hover-fill-color);\n",
              "  }\n",
              "\n",
              "  .colab-df-quickchart-complete:disabled,\n",
              "  .colab-df-quickchart-complete:disabled:hover {\n",
              "    background-color: var(--disabled-bg-color);\n",
              "    fill: var(--disabled-fill-color);\n",
              "    box-shadow: none;\n",
              "  }\n",
              "\n",
              "  .colab-df-spinner {\n",
              "    border: 2px solid var(--fill-color);\n",
              "    border-color: transparent;\n",
              "    border-bottom-color: var(--fill-color);\n",
              "    animation:\n",
              "      spin 1s steps(1) infinite;\n",
              "  }\n",
              "\n",
              "  @keyframes spin {\n",
              "    0% {\n",
              "      border-color: transparent;\n",
              "      border-bottom-color: var(--fill-color);\n",
              "      border-left-color: var(--fill-color);\n",
              "    }\n",
              "    20% {\n",
              "      border-color: transparent;\n",
              "      border-left-color: var(--fill-color);\n",
              "      border-top-color: var(--fill-color);\n",
              "    }\n",
              "    30% {\n",
              "      border-color: transparent;\n",
              "      border-left-color: var(--fill-color);\n",
              "      border-top-color: var(--fill-color);\n",
              "      border-right-color: var(--fill-color);\n",
              "    }\n",
              "    40% {\n",
              "      border-color: transparent;\n",
              "      border-right-color: var(--fill-color);\n",
              "      border-top-color: var(--fill-color);\n",
              "    }\n",
              "    60% {\n",
              "      border-color: transparent;\n",
              "      border-right-color: var(--fill-color);\n",
              "    }\n",
              "    80% {\n",
              "      border-color: transparent;\n",
              "      border-right-color: var(--fill-color);\n",
              "      border-bottom-color: var(--fill-color);\n",
              "    }\n",
              "    90% {\n",
              "      border-color: transparent;\n",
              "      border-bottom-color: var(--fill-color);\n",
              "    }\n",
              "  }\n",
              "</style>\n",
              "\n",
              "  <script>\n",
              "    async function quickchart(key) {\n",
              "      const quickchartButtonEl =\n",
              "        document.querySelector('#' + key + ' button');\n",
              "      quickchartButtonEl.disabled = true;  // To prevent multiple clicks.\n",
              "      quickchartButtonEl.classList.add('colab-df-spinner');\n",
              "      try {\n",
              "        const charts = await google.colab.kernel.invokeFunction(\n",
              "            'suggestCharts', [key], {});\n",
              "      } catch (error) {\n",
              "        console.error('Error during call to suggestCharts:', error);\n",
              "      }\n",
              "      quickchartButtonEl.classList.remove('colab-df-spinner');\n",
              "      quickchartButtonEl.classList.add('colab-df-quickchart-complete');\n",
              "    }\n",
              "    (() => {\n",
              "      let quickchartButtonEl =\n",
              "        document.querySelector('#df-53d1b68b-717c-402b-833e-bb50df6f60de button');\n",
              "      quickchartButtonEl.style.display =\n",
              "        google.colab.kernel.accessAllowed ? 'block' : 'none';\n",
              "    })();\n",
              "  </script>\n",
              "</div>\n",
              "    </div>\n",
              "  </div>\n"
            ]
          },
          "metadata": {}
        }
      ]
    },
    {
      "cell_type": "markdown",
      "source": [
        "## Simplified Analysis of Feature Combinations in Predictive Model\n",
        "\n",
        "### Combination 1: `priors_count` and `length_of_stay`\n",
        "- **`priors_count`**: Removing this feature significantly decreases accuracy, indicating its importance. Yet, its removal might reduce overfitting or bias.\n",
        "- **`length_of_stay`**: Its removal increases accuracy but also calibration disparity, hinting at its role in introducing subgroup inconsistencies.\n",
        "\n",
        "### Combination 2: `length_of_stay` and `sex`\n",
        "- **`length_of_stay`**: Similar to Combination 1, its removal slightly improves accuracy but raises calibration disparity, suggesting bias introduction.\n",
        "- **`sex`**: Its removal barely affects accuracy but significantly increases calibration disparity, indicating minimal contribution to model bias.\n",
        "\n",
        "### Combination 3: `age_cat` and `length_of_stay`\n",
        "- **`age_cat`**: Lowest calibration disparity. Removing it increases model fairness but decreases accuracy.\n",
        "- **`length_of_stay`**: Consistently introduces bias with lesser impact on accuracy.\n",
        "\n",
        "### Combination 4: `length_of_stay` and `race`\n",
        "- **`length_of_stay`**: As previously noted, introduces bias.\n",
        "- **`race`**: Its removal improves accuracy but also raises calibration disparity. Consider removal for reducing racial influence in sensitive applications like recidivism prediction.\n"
      ],
      "metadata": {
        "id": "ApszJStR3Jyx"
      }
    },
    {
      "cell_type": "code",
      "source": [
        "# Final model training and evaluation/trial.\n",
        "train_data_final = train_data_extended.drop([\"length_of_stay\", \"sex\"], axis=1)\n",
        "validation_data_final = validation_data_extended.drop([\"length_of_stay\", \"sex\"], axis=1)\n",
        "clf_final = LogisticRegression(random_state=0).fit(train_data_final, train_labels)\n",
        "accuracy_final = clf_final.score(validation_data_final, validation_labels)\n",
        "display(accuracy_final)"
      ],
      "metadata": {
        "colab": {
          "base_uri": "https://localhost:8080/",
          "height": 34
        },
        "id": "0cx1sdCU3GrK",
        "outputId": "76713416-62a2-4f72-fd12-30d24763bf45"
      },
      "execution_count": 34,
      "outputs": [
        {
          "output_type": "display_data",
          "data": {
            "text/plain": [
              "0.658703071672355"
            ]
          },
          "metadata": {}
        }
      ]
    },
    {
      "cell_type": "code",
      "source": [
        "train_data_final = train_data_extended.drop([\"length_of_stay\", \"priors_count\"], axis=1)\n",
        "validation_data_final = validation_data_extended.drop([\"length_of_stay\", \"priors_count\"], axis=1)\n",
        "clf_final = LogisticRegression(random_state=0).fit(train_data_final, train_labels)\n",
        "accuracy_final = clf_final.score(validation_data_final, validation_labels)\n",
        "display(accuracy_final)"
      ],
      "metadata": {
        "colab": {
          "base_uri": "https://localhost:8080/",
          "height": 34
        },
        "id": "4QPmntSp3Mo4",
        "outputId": "d69892ea-a574-4a20-e69b-e0faa98db17e"
      },
      "execution_count": 35,
      "outputs": [
        {
          "output_type": "display_data",
          "data": {
            "text/plain": [
              "0.5915813424345847"
            ]
          },
          "metadata": {}
        }
      ]
    },
    {
      "cell_type": "code",
      "source": [
        "train_data_final = train_data_extended.drop([\"length_of_stay\", \"age_cat\"], axis=1)\n",
        "validation_data_final = validation_data_extended.drop([\"length_of_stay\", \"age_cat\"], axis=1)\n",
        "clf_final = LogisticRegression(random_state=0).fit(train_data_final, train_labels)\n",
        "accuracy_final = clf_final.score(validation_data_final, validation_labels)\n",
        "display(accuracy_final)"
      ],
      "metadata": {
        "colab": {
          "base_uri": "https://localhost:8080/",
          "height": 34
        },
        "id": "xkagDD9F3N7-",
        "outputId": "cd076386-ee36-4112-ec65-ee3e94c8abfa"
      },
      "execution_count": 36,
      "outputs": [
        {
          "output_type": "display_data",
          "data": {
            "text/plain": [
              "0.6484641638225256"
            ]
          },
          "metadata": {}
        }
      ]
    },
    {
      "cell_type": "code",
      "source": [
        "train_data_final = train_data_extended.drop([\"length_of_stay\", \"race\"], axis=1)\n",
        "validation_data_final = validation_data_extended.drop([\"length_of_stay\", \"race\"], axis=1)\n",
        "clf_final = LogisticRegression(random_state=0).fit(train_data_final, train_labels)\n",
        "accuracy_final = clf_final.score(validation_data_final, validation_labels)\n",
        "display(accuracy_final)"
      ],
      "metadata": {
        "colab": {
          "base_uri": "https://localhost:8080/",
          "height": 34
        },
        "id": "8j0b-dNu3P9l",
        "outputId": "578ad195-903a-4988-ae53-89bddd9c20ee"
      },
      "execution_count": 37,
      "outputs": [
        {
          "output_type": "display_data",
          "data": {
            "text/plain": [
              "0.6484641638225256"
            ]
          },
          "metadata": {}
        }
      ]
    },
    {
      "cell_type": "code",
      "source": [
        "train_data_final = train_data_extended.drop([\"length_of_stay\"], axis=1)\n",
        "validation_data_final = validation_data_extended.drop([\"length_of_stay\"], axis=1)\n",
        "clf_final = LogisticRegression(random_state=0).fit(train_data_final, train_labels)\n",
        "accuracy_final = clf_final.score(validation_data_final, validation_labels)\n",
        "display(accuracy_final)"
      ],
      "metadata": {
        "colab": {
          "base_uri": "https://localhost:8080/",
          "height": 34
        },
        "id": "70CIcfT63SkZ",
        "outputId": "31019409-8d64-4b6c-e4fc-52eaec28c702"
      },
      "execution_count": 38,
      "outputs": [
        {
          "output_type": "display_data",
          "data": {
            "text/plain": [
              "0.658703071672355"
            ]
          },
          "metadata": {}
        }
      ]
    },
    {
      "cell_type": "markdown",
      "source": [
        "### Conclusion\n",
        "After testing four combinations and analyzing the recurring feature `length_of_stay`, the best outcome is achieved by simultaneously removing `length_of_stay` and `race`. This approach optimizes model performance, particularly in contexts where reducing racial bias is crucial."
      ],
      "metadata": {
        "id": "XJQk6z3e3XLT"
      }
    }
  ]
}